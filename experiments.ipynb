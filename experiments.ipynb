{
 "cells": [
  {
   "cell_type": "markdown",
   "metadata": {},
   "source": [
    "# Utilisation de base \n",
    "\n",
    "Importer, hériter `AbstractSessionContainer` et insérer l'objet `session` dans les méthodes l'utilisant avec `attach_session`."
   ]
  },
  {
   "cell_type": "code",
   "execution_count": 7,
   "metadata": {},
   "outputs": [],
   "source": [
    "from asynctools import AbstractSessionContainer, attach_session\n",
    "\n",
    "MATH_API_URL = \"http://api.mathjs.org/v4\"\n",
    "\n",
    "class MathRequests(AbstractSessionContainer):\n",
    "    \n",
    "    @attach_session\n",
    "    async def get(self, url, session=None, **kwargs):\n",
    "        \"\"\" Takes as input the URL and all keywords arguments that aiohttp.get takes: \n",
    "            params - (optional) Dictionary or bytes to be sent in the query\n",
    "                  string of the new request\n",
    "            data - (optional) Dictionary, bytes, or file-like object to\n",
    "                  send in the body of the request\n",
    "            json - (optional) Any json compatible python object\n",
    "            headers - (optional) Dictionary of HTTP Headers to send with\n",
    "                  the request\n",
    "            cookies - (optional) Dict object to send with the request\n",
    "            auth - (optional) BasicAuth named tuple represent HTTP Basic Auth\n",
    "        \"\"\" \n",
    "        async with session.get(url, **kwargs) as response:\n",
    "            return await response.text()\n",
    "\n",
    "    async def get_square(self, value):\n",
    "        params = {\n",
    "            \"expr\" : f\"{value}^2\"\n",
    "        }\n",
    "        return await self.get(MATH_API_URL, params=params)"
   ]
  },
  {
   "cell_type": "code",
   "execution_count": 8,
   "metadata": {},
   "outputs": [
    {
     "name": "stdout",
     "output_type": "stream",
     "text": [
      "['1', '4', '9', '16']\n"
     ]
    }
   ],
   "source": [
    "import asyncio\n",
    "\n",
    "values = [1, 2, 3, 4]\n",
    "\n",
    "async with MathRequests() as maths:\n",
    "    squares = await asyncio.gather(*(maths.get_square(v) for v in values))\n",
    "\n",
    "print(squares)"
   ]
  },
  {
   "cell_type": "code",
   "execution_count": null,
   "metadata": {},
   "outputs": [],
   "source": [
    "from asynctools import AbstractSessionContainer, attach_session\n",
    "\n",
    "MATH_API_URL = \"http://api.mathjs.org/v4\"\n",
    "\n",
    "class SessionContainer(AbstractSessionContainer):\n",
    "\n",
    "    @attach_session\n",
    "    async def get(self, *args, session=None, **kwargs):\n",
    "        return session.get(url, params=params)"
   ]
  },
  {
   "cell_type": "code",
   "execution_count": null,
   "metadata": {},
   "outputs": [],
   "source": []
  }
 ],
 "metadata": {
  "kernelspec": {
   "display_name": "Python 3",
   "language": "python",
   "name": "python3"
  },
  "language_info": {
   "codemirror_mode": {
    "name": "ipython",
    "version": 3
   },
   "file_extension": ".py",
   "mimetype": "text/x-python",
   "name": "python",
   "nbconvert_exporter": "python",
   "pygments_lexer": "ipython3",
   "version": "3.7.3"
  }
 },
 "nbformat": 4,
 "nbformat_minor": 4
}
